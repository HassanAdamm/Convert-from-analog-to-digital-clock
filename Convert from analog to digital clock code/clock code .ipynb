{
 "cells": [
  {
   "cell_type": "markdown",
   "metadata": {},
   "source": [
    "# Input image and drawing two lines"
   ]
  },
  {
   "cell_type": "code",
   "execution_count": null,
   "metadata": {},
   "outputs": [],
   "source": [
    "import cv2\n",
    "import math\n",
    "import numpy as np\n",
    "from matplotlib import pyplot as plt\n",
    "from math import sqrt\n",
    "from math import acos, degrees\n",
    "\n",
    "\n",
    "kernel = np.ones((5,5),np.uint8)\n",
    "img1 = cv2.imread('n.jpg')\n",
    "img = cv2.imread('n.jpg',0)\n",
    "gray = cv2.cvtColor(img1, cv2.COLOR_BGR2GRAY)\n",
    "\n",
    "ret, thresh = cv2.threshold(gray, 50, 255, cv2.THRESH_BINARY)\n",
    "\n",
    "# Create mask\n",
    "height,width = img.shape\n",
    "#height=height-10\n",
    "#width=width-10\n",
    "mask = np.zeros((height,width), np.uint8)\n",
    "\n",
    "edges = cv2.Canny(thresh, 100, 200)\n",
    "\n",
    "#cv2.imshow('detected ',gray)\n",
    "cimg=cv2.cvtColor(img, cv2.COLOR_GRAY2BGR)\n",
    "circles = cv2.HoughCircles(gray, cv2.HOUGH_GRADIENT, 1.2, 100)\n",
    "#circles = cv2.HoughCircles(edges, cv2.HOUGH_GRADIENT, 1.2, 1000, param1 = 50, param2 = 30, minRadius = 20, maxRadius = 0)\n",
    "for i in circles[0,:]:\n",
    "    i[2]=i[2]+4\n",
    "    # Draw on mask\n",
    "    cv2.circle(mask,(i[0],i[1]),i[2],(255,255,255),thickness=-1)\n",
    "\n",
    "# Copy that image using that mask\n",
    "masked_data = cv2.bitwise_and(img1, img1, mask=mask)\n",
    "\n",
    "# Apply Threshold\n",
    "_,thresh = cv2.threshold(mask,1,255,cv2.THRESH_BINARY)\n",
    "# Find Contour\n",
    "contours = cv2.findContours(thresh,cv2.RETR_EXTERNAL,cv2.CHAIN_APPROX_SIMPLE)\n",
    "x,y,w,h = cv2.boundingRect(contours[0])\n",
    "\n",
    "# Crop masked_data\n",
    "crop = masked_data[y+30:y+h-30,x+30:x+w-30]\n",
    "i=crop\n",
    "height, width, channels = i.shape\n",
    "print (width, height, channels)\n",
    "#########################################################################\n",
    "\n",
    "ret, mask = cv2.threshold(i, 10, 255, cv2.THRESH_BINARY)\n",
    "edges = cv2.Canny(i,100,200)\n",
    "kernel = np.ones((11,11),np.uint8)\n",
    "kernel2 = np.ones((13,13),np.uint8)\n",
    "edges = cv2.dilate(edges,kernel,iterations = 1)\n",
    "edges = cv2.erode(edges,kernel2,iterations = 1)\n",
    "minLineLength = 1000\n",
    "maxLineGap = 10\n",
    "lines = cv2.HoughLinesP(edges,1,np.pi/180,15,minLineLength,maxLineGap)\n",
    "h=[]\n",
    "xmax1=0\n",
    "xmax2=0\n",
    "ymax1=0\n",
    "ymax2=0\n",
    "xs1=0\n",
    "xs2=0\n",
    "ys1=0\n",
    "ys2=0\n",
    "\n",
    "for line in lines:\n",
    "    x1, y1, x2, y2 = line[0]\n",
    "    #cv2.line(i, (x1, y1), (x2, y2), (0, 255, 0), 1)\n",
    "    dx=x2-x1\n",
    "    if(dx<0):\n",
    "        dx=dx*-1\n",
    "    dy=y2-y1\n",
    "    if(dy<0):\n",
    "        dy=dy*-1\n",
    "        \n",
    "    hypo=sqrt(dx**2 + dy**2)\n",
    "    \n",
    "            \n",
    "    #print(\"dx=\",dx,\"  dy=\",dy)\n",
    "    h.append(hypo)\n",
    "\n",
    "#print(h)\n",
    "print(len(h))\n",
    "a=len(h)\n",
    "h.sort(reverse=True)\n",
    "#print(h)\n",
    "m=0\n",
    "k=0\n",
    "\n",
    "for f in range(a):\n",
    "    for line in lines:\n",
    "        x1, y1, x2, y2 = line[0]\n",
    "        #cv2.line(i, (x1, y1), (x2, y2), (0, 255, 0), 3)\n",
    "        dx=x2-x1\n",
    "        if(dx<0):\n",
    "            dx=dx*-1\n",
    "        dy=y2-y1\n",
    "        if(dy<0):\n",
    "            dy=dy*-1\n",
    "\n",
    "        hypo2=sqrt(dx**2 + dy**2)\n",
    "\n",
    "\n",
    "        if(hypo2==h[0]):\n",
    "            m=hypo2\n",
    "            xmax1=x1\n",
    "            xmax2=x2\n",
    "            ymax1=y1\n",
    "            ymax2=y2\n",
    "            cv2.line(crop, (xmax1, ymax1), (xmax2, ymax2), (255, 0, 0), 3)\n",
    "            #print(\"xmax1=\",xmax1,\" ymax1=\",ymax1,\" xmax2=\",xmax2,\" ymax2=\",ymax2)\n",
    "\n",
    "        if(m==h[0]): \n",
    "            if(hypo2==h[f]):\n",
    "                if((sqrt((xmax2-x2)**2 + (ymax2-y2)**2))>20):\n",
    "                    if((sqrt((xmax1-x1)**2 + (ymax1-y1)**2))>20):\n",
    "                        xs1=x1\n",
    "                        xs2=x2\n",
    "                        ys1=y1\n",
    "                        ys2=y2\n",
    "                        cv2.line(crop, (xs1, ys1), (xs2, ys2), (0, 255, 0), 3)\n",
    "                        print(\"xs1=\",xs1,\" ys1=\",ys1,\" xs2=\",xs2,\" ys2=\",ys2)\n",
    "                        k=1\n",
    "                        break\n",
    "    if(k==1):                \n",
    "        break           \n",
    "\n",
    "print(\"xmax1=\",xmax1,\" ymax1=\",ymax1,\" xmax2=\",xmax2,\" ymax2=\",ymax2)\n",
    "\n"
   ]
  },
  {
   "cell_type": "markdown",
   "metadata": {},
   "source": [
    "# Algorithm of clock calculation"
   ]
  },
  {
   "cell_type": "markdown",
   "metadata": {},
   "source": [
    "## 1-Calculate center point"
   ]
  },
  {
   "cell_type": "code",
   "execution_count": null,
   "metadata": {},
   "outputs": [],
   "source": [
    "xcenter=width/2\n",
    "ycenter=height/2\n",
    "print('xcenter=' ,xcenter,\"ycenter=\",ycenter)"
   ]
  },
  {
   "cell_type": "markdown",
   "metadata": {},
   "source": [
    "## 2-Determine the coordinates of the end point (farther from the center)\n"
   ]
  },
  {
   "cell_type": "code",
   "execution_count": null,
   "metadata": {},
   "outputs": [],
   "source": [
    "hassona1=abs(xcenter-xs1)\n",
    "hassona2=abs(xcenter-xs2)\n",
    "abdo1=abs(xcenter-xmax1)\n",
    "abdo2=abs(xcenter-xmax2)\n",
    "if(hassona1>hassona2):\n",
    "    xhours=xs1\n",
    "    yhours=ys1\n",
    "else:\n",
    "    xhours=xs2\n",
    "    yhours=ys2\n",
    "    \n",
    "if(abdo1>abdo2):\n",
    "    xminutes=xmax1\n",
    "    yminutes=ymax1\n",
    "else:\n",
    "    xminutes=xmax2\n",
    "    yminutes=ymax2  \n",
    "    \n",
    "print('xhours=' ,xhours,\"yhours=\",yhours,'xminutes=' ,xminutes,\"yminutes=\",yminutes)    "
   ]
  },
  {
   "cell_type": "markdown",
   "metadata": {},
   "source": [
    "## 3- Calculate theta of each line using the law of cosines "
   ]
  },
  {
   "cell_type": "code",
   "execution_count": null,
   "metadata": {},
   "outputs": [],
   "source": [
    "#calculating theta for hours hand\n",
    "l1=sqrt(((xcenter-xhours)**2)+((ycenter-yhours)**2))\n",
    "l2=ycenter\n",
    "l3=sqrt(((xcenter-xhours)**2)+((0-yhours)**2))\n",
    "cos_theta_hours=(((l1)**2)+((l2)**2)-((l3)**2))/(2*(l1)*(l2))\n",
    "\n",
    "theta_hours_radian=acos(cos_theta_hours)\n",
    "theta_hours=math.degrees(theta_hours_radian)\n",
    "print('theta_hours=' ,theta_hours)\n",
    "\n",
    "#calculating theta for minutes hand\n",
    "len1=sqrt(((xcenter-xminutes)**2)+((ycenter-yminutes)**2))\n",
    "len2=ycenter\n",
    "len3=sqrt(((xcenter-xminutes)**2)+((0-yminutes)**2))\n",
    "cos_theta_minutes=(((len1)**2)+((len2)**2)-((len3)**2))/(2*(len1)*(len2))\n",
    "\n",
    "theta_minutes_radian=acos(cos_theta_minutes)\n",
    "theta_minutes=math.degrees(theta_minutes_radian)\n",
    "print('theta_minutes=' ,theta_minutes)"
   ]
  },
  {
   "cell_type": "markdown",
   "metadata": {},
   "source": [
    "## 4-calculate hours\n"
   ]
  },
  {
   "cell_type": "code",
   "execution_count": null,
   "metadata": {},
   "outputs": [],
   "source": [
    "#Determine left half or right half\n",
    "if(xhours>xcenter):\n",
    "    right=1\n",
    "else:\n",
    "    right=0\n",
    "    \n",
    "if(right==1):\n",
    "    hournum=int(theta_hours/30)\n",
    "if(right==0):\n",
    "    hournum=12-(int(theta_hours/30))\n",
    "    \n",
    "if(hournum==0):\n",
    "    hournum=12\n",
    "print('hours=' ,hournum)"
   ]
  },
  {
   "cell_type": "markdown",
   "metadata": {},
   "source": [
    "## 5- calculate minutes "
   ]
  },
  {
   "cell_type": "code",
   "execution_count": null,
   "metadata": {},
   "outputs": [],
   "source": [
    "if(xminutes>xcenter):\n",
    "    right1=1\n",
    "else:\n",
    "    right1=0\n",
    "    \n",
    "if(right1==1):\n",
    "    minutesnum=int(theta_minutes/6)\n",
    "if(right1==0):\n",
    "    minutesnum=60-(int(theta_minutes/6))\n",
    "    if(xminutes==xcenter):\n",
    "        minutesnum=30\n",
    "    \n",
    "print('minutesnum=' ,minutesnum)\n",
    "\n"
   ]
  },
  {
   "cell_type": "markdown",
   "metadata": {},
   "source": [
    "## Testing"
   ]
  },
  {
   "cell_type": "code",
   "execution_count": null,
   "metadata": {},
   "outputs": [],
   "source": [
    "#Code to close Window\n",
    "if ((minutesnum<10))\n",
    "    print(\"TIME =  \" ,hournum,\": 0\",minutesnum)\n",
    "else     \n",
    "    print(\"TIME =  \" ,hournum,\":\",minutesnum)\n",
    "    \n",
    "cv2.imshow('Input Image',img1)\n",
    "cv2.imshow('canny edge',edges)\n",
    "cv2.imshow('output cropped image',crop)\n",
    "cv2.waitKey(0)\n",
    "cv2.destroyAllWindows()"
   ]
  }
 ],
 "metadata": {
  "kernelspec": {
   "display_name": "Python 2",
   "language": "python",
   "name": "python2"
  },
  "language_info": {
   "codemirror_mode": {
    "name": "ipython",
    "version": 2
   },
   "file_extension": ".py",
   "mimetype": "text/x-python",
   "name": "python",
   "nbconvert_exporter": "python",
   "pygments_lexer": "ipython2",
   "version": "2.7.14"
  }
 },
 "nbformat": 4,
 "nbformat_minor": 2
}
